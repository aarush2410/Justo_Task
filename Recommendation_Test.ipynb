{
 "cells": [
  {
   "cell_type": "code",
   "execution_count": 1,
   "id": "aa5d1369",
   "metadata": {},
   "outputs": [],
   "source": [
    "import pandas as pd"
   ]
  },
  {
   "cell_type": "code",
   "execution_count": 2,
   "id": "0c6614c1",
   "metadata": {},
   "outputs": [
    {
     "name": "stdout",
     "output_type": "stream",
     "text": [
      "Collecting rank_bm25\n",
      "  Obtaining dependency information for rank_bm25 from https://files.pythonhosted.org/packages/2a/21/f691fb2613100a62b3fa91e9988c991e9ca5b89ea31c0d3152a3210344f9/rank_bm25-0.2.2-py3-none-any.whl.metadata\n",
      "  Downloading rank_bm25-0.2.2-py3-none-any.whl.metadata (3.2 kB)\n",
      "Requirement already satisfied: numpy in c:\\users\\aarush kumar\\anaconda3\\lib\\site-packages (from rank_bm25) (1.24.3)\n",
      "Downloading rank_bm25-0.2.2-py3-none-any.whl (8.6 kB)\n",
      "Installing collected packages: rank_bm25\n",
      "Successfully installed rank_bm25-0.2.2\n"
     ]
    }
   ],
   "source": [
    "!pip install rank_bm25"
   ]
  },
  {
   "cell_type": "code",
   "execution_count": 3,
   "id": "18c4cc28",
   "metadata": {},
   "outputs": [
    {
     "name": "stdout",
     "output_type": "stream",
     "text": [
      "Requirement already satisfied: rank-bm25 in c:\\users\\aarush kumar\\anaconda3\\lib\\site-packages (0.2.2)\n",
      "Requirement already satisfied: numpy in c:\\users\\aarush kumar\\anaconda3\\lib\\site-packages (from rank-bm25) (1.24.3)\n",
      "Note: you may need to restart the kernel to use updated packages.\n"
     ]
    }
   ],
   "source": [
    "pip install rank-bm25\n"
   ]
  },
  {
   "cell_type": "code",
   "execution_count": 4,
   "id": "9939301b",
   "metadata": {},
   "outputs": [],
   "source": [
    "from rank_bm25 import BM25Okapi"
   ]
  },
  {
   "cell_type": "code",
   "execution_count": 6,
   "id": "a3faef94",
   "metadata": {},
   "outputs": [],
   "source": [
    "posts = pd.read_csv(r'C:\\Users\\Aarush Kumar\\Downloads\\Recommendation\\df_posts.csv')\n",
    "likes = pd.read_csv(r'C:\\Users\\Aarush Kumar\\Downloads\\Recommendation\\posts_likes.csv')\n",
    "comments = pd.read_csv(r'C:\\Users\\Aarush Kumar\\Downloads\\Recommendation\\post_comments.csv')\n",
    "grps = pd.read_csv( r'C:\\Users\\Aarush Kumar\\Downloads\\Recommendation\\grp.csv')\n",
    "org = pd.read_csv( r'C:\\Users\\Aarush Kumar\\Downloads\\Recommendation\\org.csv')\n",
    "user = pd.read_csv( r'C:\\Users\\Aarush Kumar\\Downloads\\Recommendation\\user.csv')"
   ]
  },
  {
   "cell_type": "code",
   "execution_count": 11,
   "id": "868a5f15",
   "metadata": {},
   "outputs": [],
   "source": [
    "# Example corpus (replace with your actual data)\n",
    "titles = org['title']\n",
    "descriptions = posts['description']\n",
    "comments = comments['description']"
   ]
  },
  {
   "cell_type": "code",
   "execution_count": 12,
   "id": "3329e083",
   "metadata": {},
   "outputs": [],
   "source": [
    "# Tokenize each piece of text\n",
    "tokenized_titles = [title.split() for title in titles]\n",
    "tokenized_descriptions = [description.split() for description in descriptions]\n",
    "tokenized_comments = [comment.split() for comment in comments]"
   ]
  },
  {
   "cell_type": "code",
   "execution_count": 13,
   "id": "b93c7abc",
   "metadata": {},
   "outputs": [
    {
     "data": {
      "text/plain": [
       "[['Tribel', 'People', 'Rivival', 'Ministry'],\n",
       " ['Jasmine', 'for', 'Jesus'],\n",
       " ['Apostolic', 'Christian', 'Assembly', '(ACA)'],\n",
       " ['City', 'Harvest', 'AG', 'Church'],\n",
       " ['Yesu', 'Jeeva', 'Appam', 'Church'],\n",
       " ['Faith', 'Victory', 'Ministry'],\n",
       " ['Rehoboth', 'AG', 'Church'],\n",
       " ['Apostolic', 'Disciples', 'Church'],\n",
       " ['Dinamorusinthanai'],\n",
       " ['Bethel', 'Bible', 'Church', 'Moyar'],\n",
       " ['The', 'Ark', 'Community'],\n",
       " ['Karunya', 'Gospel', 'Media'],\n",
       " ['Bethel', 'Bible', 'Church', 'Rajanagar'],\n",
       " ['Gift', 'for', 'Kids', 'Mission'],\n",
       " ['Heavenly', 'Life', 'Church'],\n",
       " ['வேதம்', 'அறிவோம்'],\n",
       " ['THE', 'APOSTOLIC', 'CHURCH'],\n",
       " ['Peace', 'Ag', 'Church'],\n",
       " ['Holy', 'Almighty', 'God', 'Church'],\n",
       " ['Ark', 'Global', 'Stage'],\n",
       " ['Melchizedek', 'International', 'Ministries'],\n",
       " ['Family', 'channel'],\n",
       " ['Future', 'Glory', 'AG', 'Church', 'Kuniyamuthur'],\n",
       " ['Jesus', 'deliverance', 'ministries'],\n",
       " ['BG', 'Church', 'Boanerges'],\n",
       " ['Friends', 'of', 'Christ', 'Church.'],\n",
       " ['Rethna', 'Nager', 'CSI', 'church'],\n",
       " ['GARDEN', 'ENGLISH', 'CHAPEL'],\n",
       " ['Truthbible'],\n",
       " ['Bethesda', 'Revival', 'Prayer', 'Mission'],\n",
       " ['Legacy_Of_Life'],\n",
       " ['NEW', 'GRACE', 'AG', 'CHURCH'],\n",
       " ['Life', 'Focus', 'Society'],\n",
       " ['Chief', 'Cornerstone', 'Media'],\n",
       " ['FGPC', 'NAGERCOIL'],\n",
       " ['Apostolic', 'Revival', 'Ministries'],\n",
       " ['Grace', 'Prayer', 'House'],\n",
       " ['Pattern', 'to', 'the', 'Believers'],\n",
       " ['Cacs', 'Choir'],\n",
       " ['Divine', 'Glory', 'Ministries'],\n",
       " ['FAITH', 'PRAYER', 'ASSEMBLY', 'CHURCH'],\n",
       " ['Grace', 'Ministries'],\n",
       " ['Church', 'of', 'God,', 'Vadavalli'],\n",
       " ['BETHEL', 'PRAYER', 'HOUSE', 'AMBATTUR'],\n",
       " ['ARK', 'World'],\n",
       " ['Bethel', 'Prayer', 'House'],\n",
       " ['Elim', 'Glorious', 'Revival', 'Church'],\n",
       " ['India', 'Pendecostal', 'Misson,', 'Gudalur'],\n",
       " ['Adhisayam', 'TV'],\n",
       " ['The', 'Rock', 'TV', 'Official'],\n",
       " ['Church', 'of', 'the', 'living', 'God'],\n",
       " ['Trinity', 'Prophetic', 'Ministries'],\n",
       " ['Peace', 'of', 'Amen', 'Ministries'],\n",
       " ['Fellowship', 'of', 'Blessed', 'Hope', 'Church'],\n",
       " ['Thuthiyein', 'Pallathakku', 'Thirusabai'],\n",
       " ['WITNESS', 'OF', 'GOD', 'MINISTRIES'],\n",
       " ['Zion', 'AG', 'Church'],\n",
       " ['Jesus', 'Reigneth', 'Church'],\n",
       " ['Ark', 'QA'],\n",
       " ['Carmel', 'Christian', 'Apostolic', 'Church'],\n",
       " ['High', 'Calling', 'Bride', 'Church'],\n",
       " ['Jesus', 'Army', 'church'],\n",
       " ['Jesus', 'Christ', 'Prayer', 'House'],\n",
       " ['My', 'India', 'Gospel', 'Mission', 'Ministries'],\n",
       " ['ENJC', 'MINISTRIES'],\n",
       " ['J.M.Full', 'Gospel', 'Church'],\n",
       " ['King', 'Tabernacle', '-', 'South', 'India', 'Missionary', 'Mission'],\n",
       " ['Divine', 'Christian', 'Assembly'],\n",
       " ['New', 'Way', 'Mission'],\n",
       " ['Saviour', 'Jesus', 'Christ', 'Church'],\n",
       " ['Yehova', 'Shalom', 'Christian', 'Church'],\n",
       " ['The', 'Ark', 'collaboration'],\n",
       " ['John', 'Jayakumar', 'Official'],\n",
       " ['Thy', 'Will', 'TV'],\n",
       " ['Village', 'Bible', 'Vision'],\n",
       " ['Jehovah', 'Nissi', 'Jesus', 'Church'],\n",
       " ['Shaaron', 'Pentecostal', 'Church'],\n",
       " ['Elim', 'Full', 'Gospel', 'Church', 'of', 'God'],\n",
       " ['Calvary', 'Lutheran', 'church'],\n",
       " ['PUDHU', 'JEEVIYA', 'PADHAI', 'CHURCH'],\n",
       " ['New', 'life', 'zion', 'church'],\n",
       " ['New', 'way', 'church', 'of', 'Christ'],\n",
       " ['Glorious', 'Christ', 'Assembly'],\n",
       " ['Yahoshuah', 'Messiah', 'Fellowship'],\n",
       " ['KEBA', 'FAMILY', 'CHAPEL'],\n",
       " [\"God's\", 'Love', 'Ministries'],\n",
       " ['The', 'National', 'Bible', 'College'],\n",
       " ['Cherubim', 'Singers'],\n",
       " ['24:14', 'World'],\n",
       " ['Christ', 'Vision', 'Church'],\n",
       " ['Salvation', 'Mission', 'Partaker', 'Movement'],\n",
       " ['St.Paul', 'Lutheran', 'Church'],\n",
       " ['The', 'Ark', 'World'],\n",
       " ['Bethel', 'Bible', 'Church', 'Masinagudi'],\n",
       " ['Shekinah', 'Glory', 'Prophetic', 'Ministries'],\n",
       " ['Voice', 'of', 'the', 'Lord', 'Ministry'],\n",
       " ['Word', 'is', 'Life', 'Ministries'],\n",
       " ['Church', 'of', 'Christ'],\n",
       " ['Trinity', 'Faith', 'Family', 'Ministry'],\n",
       " ['Back', 'to', 'Bible', 'Family'],\n",
       " ['Hi', 'Kids', 'Ministries', 'Official'],\n",
       " ['Bethel', 'Bible', 'Church', 'Gundlupet', 'Chamarajanagar'],\n",
       " ['Jesus', 'Pishon', 'Ministries'],\n",
       " ['Vedhathin', 'Velicham'],\n",
       " ['Ebenezer', 'Vision', 'Prayer', 'House'],\n",
       " ['Bethel', 'Church'],\n",
       " ['RAJAPALAYAM', 'CITY', 'AG', 'CHURCH'],\n",
       " ['Samuel', 'Tensingh'],\n",
       " ['Evangelist', 'Daniel', 'David'],\n",
       " [\"Noah's\", 'Ark', 'Ministries'],\n",
       " ['JUSTO', 'ENGAGE', 'HUB'],\n",
       " ['Milk', 'and', 'Honey', 'Ministries'],\n",
       " ['Divine', 'Community', 'ministry.'],\n",
       " ['Fire', 'of', 'God', 'AG', 'Church'],\n",
       " ['Life', 'AG', 'Church'],\n",
       " ['Way', 'Life', 'of', 'Jesus', 'Assembly'],\n",
       " ['Church', 'of', 'Christ', 'Kadukarai'],\n",
       " ['FAITH', 'ACA', 'KUNDRATHUR'],\n",
       " ['TRUTHFUL', 'LIVING', 'GOD'],\n",
       " ['Salvation', 'Ministries'],\n",
       " ['Vision', 'Church', 'of', 'God', 'Prayer', 'House'],\n",
       " ['Church', 'of', 'Living', 'God'],\n",
       " ['Gem', 'India', 'Ministry'],\n",
       " ['SMYRNA', 'PRAYER', 'BAND'],\n",
       " ['Lord', 'Jesus', 'Christ', 'Prayer', 'House'],\n",
       " ['Bethel', 'Lutheran', 'church', 'Kuzhivilai'],\n",
       " ['Jesus', 'healing', 'ministry'],\n",
       " ['Evangelical', 'Truth', 'Ministries'],\n",
       " ['Kingdom', 'Life', 'Mission'],\n",
       " ['World', 'Savior', 'Jesus', 'AG', 'Church'],\n",
       " ['Hosanna', 'TV'],\n",
       " ['JOHN', 'SAM', 'RAJ'],\n",
       " ['Aathi', 'Apostal', 'Church'],\n",
       " ['Voice', 'of', 'God', 'Ministries'],\n",
       " ['Holy', 'Nissi', 'Fire', 'Fellowship'],\n",
       " ['Come', '&', 'See', 'Jesus', 'Ministries'],\n",
       " ['Benny', 'Joshua', 'Ministries'],\n",
       " ['Rolling', 'Tones'],\n",
       " ['Tamil', 'Bible', 'School'],\n",
       " ['Christian', 'Believers', 'Fellowship', 'Church'],\n",
       " ['Jesus', 'Heals', 'Church'],\n",
       " ['Christina', 'Beryl', 'Edward'],\n",
       " ['God', 'loves', 'you'],\n",
       " ['Good', 'Life', 'Church'],\n",
       " ['TamilChristian101'],\n",
       " ['Royal', 'Voice'],\n",
       " ['Hoseenu', 'Church'],\n",
       " ['Nanmai', 'Seidhavarae'],\n",
       " ['Mizpah', 'church'],\n",
       " ['The', 'Prophet', 'Church', 'Ministry'],\n",
       " ['New', 'Life', 'Fellowship', 'Ministries'],\n",
       " ['ARISE', '&', 'SHINE', 'Prayer', 'Ministries'],\n",
       " ['Bedestha', 'Ark', 'of', 'Divinity'],\n",
       " ['Voice', 'of', 'Revival', 'Ministries'],\n",
       " ['RiverStone', 'Church'],\n",
       " ['Bethel', 'AG', 'Church'],\n",
       " ['Blessed', 'Hebron', 'Church'],\n",
       " ['Peace', 'Maker', 'Tabernacle'],\n",
       " ['Apostolic', 'Revival', 'church', 'of', 'Asia'],\n",
       " ['Son', 'of', 'God', 'Apostal', 'Prayer', 'House'],\n",
       " ['Alpha', 'Omega', 'Ministries'],\n",
       " ['Jesus', 'Heals', 'International', 'Ministries'],\n",
       " ['Tamil', 'Baptist', 'Church'],\n",
       " ['Victor', 'Raj', 'Official'],\n",
       " ['Fire', 'lord', 'Jesus', 'Prayer', 'House'],\n",
       " ['Fire', 'of', 'Heaven', 'church'],\n",
       " ['Hebron', 'New', 'Covenant', 'Church'],\n",
       " ['Visions', 'For', 'Stream', 'Ministries'],\n",
       " ['JasJemi'],\n",
       " ['Eva.Albert', 'Solomon'],\n",
       " ['Grace', 'TV', 'Tamil'],\n",
       " ['Bible', 'calls'],\n",
       " ['Jesus', 'Lives', 'Revival', 'Church'],\n",
       " ['Soul', 'winning', 'church', 'of', 'india'],\n",
       " ['Blessed', 'Bethel', 'Ministries'],\n",
       " ['Jesus', 'for', 'India', 'Church'],\n",
       " ['Jesus', 'is', 'the', 'Lord', 'Ministries'],\n",
       " ['Ark', 'Support'],\n",
       " ['Blessed', 'peniel', 'Prayer', 'House'],\n",
       " ['Future', 'Glory', 'AG', 'Church', 'Kovaiputhur'],\n",
       " ['Trinity', 'Gospel', 'Music'],\n",
       " ['Living', 'hope', 'zion', 'prayer', 'house'],\n",
       " ['IPC', 'CARMEL', 'PRAYER', 'HOUSE,', 'KANYAKUMARI'],\n",
       " ['Jesus', 'still', 'lives', 'church'],\n",
       " ['AJ', 'Ministries'],\n",
       " ['Sharon', 'Prayer', 'House'],\n",
       " ['Church', 'of', 'God'],\n",
       " ['St.', 'Mark', 'Lutheran', 'church'],\n",
       " ['Grace', 'AG', 'Church'],\n",
       " ['Apostolic', 'Believers', 'Church'],\n",
       " ['Jesus', 'the', 'King', 'of', 'Glory', 'Ministries'],\n",
       " ['NLAG', 'Nellai']]"
      ]
     },
     "execution_count": 13,
     "metadata": {},
     "output_type": "execute_result"
    }
   ],
   "source": [
    "tokenized_titles"
   ]
  },
  {
   "cell_type": "code",
   "execution_count": 14,
   "id": "179d4eff",
   "metadata": {},
   "outputs": [],
   "source": [
    "corpus = tokenized_titles + tokenized_descriptions + tokenized_comments\n",
    "bm25 = BM25Okapi(corpus)"
   ]
  },
  {
   "cell_type": "code",
   "execution_count": 20,
   "id": "3a7125fd",
   "metadata": {},
   "outputs": [],
   "source": [
    "# Example query (replace with your actual query)\n",
    "query = \"Hail god\"\n",
    "tokenized_query = query.split()"
   ]
  },
  {
   "cell_type": "code",
   "execution_count": 21,
   "id": "c59ab6be",
   "metadata": {},
   "outputs": [],
   "source": [
    "# Get scores for each piece of text in the corpus\n",
    "title_scores = bm25.get_scores(tokenized_query)[:len(tokenized_titles)]\n",
    "description_scores = bm25.get_scores(tokenized_query)[len(tokenized_titles):len(tokenized_titles)+len(tokenized_descriptions)]\n",
    "comment_scores = bm25.get_scores(tokenized_query)[len(tokenized_titles)+len(tokenized_descriptions):]\n"
   ]
  },
  {
   "cell_type": "code",
   "execution_count": 22,
   "id": "838a42ce",
   "metadata": {},
   "outputs": [],
   "source": [
    "import numpy as np\n",
    "\n",
    "top_title_index = np.argmax(title_scores)\n",
    "top_description_index = np.argmax(description_scores)\n",
    "top_comment_index = np.argmax(comment_scores)\n"
   ]
  },
  {
   "cell_type": "code",
   "execution_count": 23,
   "id": "01dcfd1c",
   "metadata": {},
   "outputs": [],
   "source": [
    "top_title = titles[top_title_index]\n",
    "top_description = descriptions[top_description_index]\n",
    "top_comment = comments[top_comment_index]\n"
   ]
  },
  {
   "cell_type": "code",
   "execution_count": 24,
   "id": "2f8def75",
   "metadata": {},
   "outputs": [
    {
     "name": "stdout",
     "output_type": "stream",
     "text": [
      "Most relevant title: Tribel People Rivival Ministry\n",
      "Most relevant description: GOD LOVES YOU #religion #love #god god #story #prayfirst #tamilchristiansongs\n",
      "Most relevant comment: May god bless the unity.\n"
     ]
    }
   ],
   "source": [
    "\n",
    "print(\"Most relevant title:\", top_title)\n",
    "print(\"Most relevant description:\", top_description)\n",
    "print(\"Most relevant comment:\", top_comment)\n"
   ]
  },
  {
   "cell_type": "code",
   "execution_count": null,
   "id": "4a7410be",
   "metadata": {},
   "outputs": [],
   "source": []
  }
 ],
 "metadata": {
  "kernelspec": {
   "display_name": "Python 3 (ipykernel)",
   "language": "python",
   "name": "python3"
  },
  "language_info": {
   "codemirror_mode": {
    "name": "ipython",
    "version": 3
   },
   "file_extension": ".py",
   "mimetype": "text/x-python",
   "name": "python",
   "nbconvert_exporter": "python",
   "pygments_lexer": "ipython3",
   "version": "3.11.4"
  }
 },
 "nbformat": 4,
 "nbformat_minor": 5
}
